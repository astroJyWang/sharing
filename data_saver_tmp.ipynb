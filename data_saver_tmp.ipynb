{
 "cells": [
  {
   "cell_type": "code",
   "execution_count": 1,
   "metadata": {
    "tags": []
   },
   "outputs": [],
   "source": [
    "#imports\n",
    "import katdal\n",
    "import numpy as np\n",
    "import matplotlib.pylab as plt\n",
    "import astropy.coordinates as ac\n",
    "import functools\n",
    "import healpy as hp\n",
    "import optparse\n",
    "import warnings\n",
    "from matplotlib.backends.backend_pdf import PdfPages\n",
    "import healpy as hp\n",
    "from astropy import units as u\n",
    "from matplotlib.offsetbox import AnchoredText\n",
    "import time\n",
    "import pickle\n",
    "import sys\n",
    "Tcmb=2.725\n",
    "import katcali\n",
    "import katcali.visualizer as kv\n",
    "import katcali.models as km\n",
    "import katcali.rfi as kr\n",
    "import katcali.solver as ks\n",
    "import katcali.io as kio\n",
    "import katcali.label_dump as kl\n",
    "import katcali.diode as kd\n",
    "import katcali.filter as kf\n",
    "import katcali.beam as kb\n",
    "from astropy.coordinates import SkyCoord\n",
    "from astropy import units as u\n",
    "from scipy.interpolate import Rbf"
   ]
  },
  {
   "cell_type": "code",
   "execution_count": 2,
   "metadata": {},
   "outputs": [
    {
     "name": "stdout",
     "output_type": "stream",
     "text": [
      "start @ Fri Oct 22 12:38:50 2021#\n"
     ]
    }
   ],
   "source": [
    "print 'start @ ' + time.asctime(time.localtime(time.time())) +'#'"
   ]
  },
  {
   "cell_type": "code",
   "execution_count": 3,
   "metadata": {},
   "outputs": [
    {
     "name": "stdout",
     "output_type": "stream",
     "text": [
      "0.3.1\n"
     ]
    }
   ],
   "source": [
    "print katcali.__version__"
   ]
  },
  {
   "cell_type": "code",
   "execution_count": 4,
   "metadata": {},
   "outputs": [
    {
     "name": "stdout",
     "output_type": "stream",
     "text": [
      "10.0 0.8 1.5\n",
      "14.0 1.5 1.5\n"
     ]
    }
   ],
   "source": [
    "print  plt.rcParams['font.size'], plt.rcParams[u'axes.linewidth'],plt.rcParams['lines.linewidth']\n",
    "plt.rcParams['font.size'], plt.rcParams[u'axes.linewidth'],plt.rcParams['lines.linewidth'] = 14, 1.5, 1.5\n",
    "#plt.rcParams['font.size'], plt.rcParams[u'axes.linewidth'],plt.rcParams['lines.linewidth'] = 10.0, 0.8, 1.5\n",
    "print  plt.rcParams['font.size'], plt.rcParams[u'axes.linewidth'],plt.rcParams['lines.linewidth']"
   ]
  },
  {
   "cell_type": "code",
   "execution_count": 5,
   "metadata": {},
   "outputs": [],
   "source": [
    "fname='1614484873'\n",
    "if fname=='1614484873':\n",
    "    data = katdal.open('/idia/projects/hi_im/SCI-20190418-MS-01/1614484873-autos/1614484873/1614484873_sdp_l0.full.rdb')"
   ]
  },
  {
   "cell_type": "code",
   "execution_count": 6,
   "metadata": {},
   "outputs": [
    {
     "name": "stdout",
     "output_type": "stream",
     "text": [
      "===============================================================================\n",
      "Name: file:///idia/projects/hi_im/SCI-20190418-MS-01/1614484873-autos/1614484873/1614484873_sdp_l0.full.rdb | 1614484873-sdp-l0 (version 4.0)\n",
      "===============================================================================\n",
      "Observer: Benjamin Hugo  Experiment ID: 20210226-0016\n",
      "Description: 'RARG engineering: autocorrelation calibration test'\n",
      "Observed from 2021-02-28 06:01:30.757 SAST to 2021-02-28 06:35:59.881 SAST\n",
      "Dump rate / period: 0.50021 Hz / 1.999 s\n",
      "Subarrays: 1\n",
      "  ID  Antennas                            Inputs  Corrprods\n",
      "   0  m000,m001,m002,m003,m004,m005,m006,m007,m008,m009,m010,m011,m012,m013,m014,m015,m016,m017,m018,m019,m020,m021,m022,m023,m024,m025,m026,m027,m028,m029,m030,m031,m032,m034,m035,m036,m037,m038,m039,m040,m041,m042,m043,m044,m045,m046,m047,m048,m049,m050,m051,m052,m053,m054,m055,m056,m057,m058,m059,m060,m061,m062,m063  126      252\n",
      "Spectral Windows: 1\n",
      "  ID Band Product  CentreFreq(MHz)  Bandwidth(MHz)  Channels  ChannelWidth(kHz)\n",
      "   0 L    c856M4k    1284.000         856.000           4096       208.984\n",
      "-------------------------------------------------------------------------------\n",
      "Data selected according to the following criteria:\n",
      "  ants=['m000', 'm001', 'm002', 'm003', 'm004', 'm005', 'm006', 'm007', 'm008', 'm009', 'm010', 'm011', 'm012', 'm013', 'm014', 'm015', 'm016', 'm017', 'm018', 'm019', 'm020', 'm021', 'm022', 'm023', 'm024', 'm025', 'm026', 'm027', 'm028', 'm029', 'm030', 'm031', 'm032', 'm034', 'm035', 'm036', 'm037', 'm038', 'm039', 'm040', 'm041', 'm042', 'm043', 'm044', 'm045', 'm046', 'm047', 'm048', 'm049', 'm050', 'm051', 'm052', 'm053', 'm054', 'm055', 'm056', 'm057', 'm058', 'm059', 'm060', 'm061', 'm062', 'm063']\n",
      "  spw=0\n",
      "  subarray=0\n",
      "-------------------------------------------------------------------------------\n",
      "Shape: (1035 dumps, 4096 channels, 252 correlation products) => Size: 8.547 GB\n",
      "Antennas: m000,m001,m002,m003,m004,m005,m006,m007,m008,m009,m010,m011,m012,m013,m014,m015,m016,m017,m018,m019,m020,m021,m022,m023,m024,m025,m026,m027,m028,m029,m030,m031,m032,m034,m035,m036,m037,m038,m039,m040,m041,m042,m043,m044,m045,m046,m047,m048,m049,m050,m051,m052,m053,m054,m055,m056,m057,m058,m059,m060,m061,m062,m063  Inputs: 126  Autocorr: yes  Crosscorr: no\n",
      "Channels: 4096 (index 0 - 4095,  856.000 MHz - 1711.791 MHz), each 208.984 kHz wide\n",
      "Targets: 9 selected out of 9 in catalogue\n",
      "  ID  Name          Type      RA(J2000)     DEC(J2000)  Tags                                   Dumps  ModelFlux(Jy)\n",
      "   0  1934-638l1.0  radec     19:33:11.23  -62:59:49.1  target                                    92  \n",
      "   1  1934-638l0.5  radec     19:34:54.10  -63:42:29.7  target                                    94  \n",
      "   2  1934-638      radec     19:39:25.03  -63:42:45.6  target delaycal gaincal fluxcal bpcal    281  \n",
      "   3  1934-638d1.0  radec     19:32:52.08  -64:24:38.5  target                                    95  \n",
      "   4  1934-638d0.5  radec     19:39:25.03  -64:12:45.6  target                                    94  \n",
      "   5  1934-638r1.0  radec     19:45:57.97  -64:24:38.5  target                                    93  \n",
      "   6  1934-638r0.5  radec     19:43:55.96  -63:42:29.7  target                                    96  \n",
      "   7  1934-638u1.0  radec     19:45:38.82  -62:59:49.1  target                                    96  \n",
      "   8  1934-638u0.5  radec     19:39:25.03  -63:12:45.6  target                                    94  \n",
      "Scans: 24 selected out of 24 total       Compscans: 11 selected out of 11 total\n",
      "  Date        Timerange(UTC)       ScanState  CompScanLabel  Dumps  Target\n",
      "  28-Feb-2021/04:01:31 - 04:01:31    0:slew     0:track          1    0:1934-638l1.0\n",
      "              04:01:33 - 04:04:33    1:track    0:track         91    0:1934-638l1.0\n",
      "              04:04:35 - 04:04:41    2:slew     1:track          4    1:1934-638l0.5\n",
      "              04:04:43 - 04:07:41    3:track    1:track         90    1:1934-638l0.5\n",
      "              04:07:43 - 04:07:49    4:slew     2:track          4    2:1934-638\n",
      "              04:07:51 - 04:10:49    5:track    2:track         90    2:1934-638\n",
      "              04:10:51 - 04:10:59    6:slew     3:track          5    3:1934-638d1.0\n",
      "              04:11:01 - 04:13:59    7:track    3:track         90    3:1934-638d1.0\n",
      "              04:14:01 - 04:14:07    8:slew     4:track          4    4:1934-638d0.5\n",
      "              04:14:09 - 04:17:07    9:track    4:track         90    4:1934-638d0.5\n",
      "              04:17:09 - 04:17:15   10:slew     5:track          4    2:1934-638\n",
      "              04:17:17 - 04:20:15   11:track    5:track         90    2:1934-638\n",
      "              04:20:17 - 04:20:23   12:slew     6:track          4    5:1934-638r1.0\n",
      "              04:20:25 - 04:23:21   13:track    6:track         89    5:1934-638r1.0\n",
      "              04:23:23 - 04:23:25   14:track    7:track          2    6:1934-638r0.5\n",
      "              04:23:27 - 04:23:33   15:slew     7:track          4    6:1934-638r0.5\n",
      "              04:23:35 - 04:26:33   16:track    7:track         90    6:1934-638r0.5\n",
      "              04:26:35 - 04:26:41   17:slew     8:track          4    2:1934-638\n",
      "              04:26:43 - 04:29:39   18:track    8:track         89    2:1934-638\n",
      "              04:29:41 - 04:29:43   19:track    9:track          2    7:1934-638u1.0\n",
      "              04:29:45 - 04:29:51   20:slew     9:track          4    7:1934-638u1.0\n",
      "              04:29:53 - 04:32:50   21:track    9:track         90    7:1934-638u1.0\n",
      "              04:32:52 - 04:32:58   22:slew    10:track          4    8:1934-638u0.5\n",
      "              04:33:00 - 04:35:58   23:track   10:track         90    8:1934-638u0.5\n"
     ]
    }
   ],
   "source": [
    "print data"
   ]
  },
  {
   "cell_type": "code",
   "execution_count": 7,
   "metadata": {},
   "outputs": [
    {
     "data": {
      "text/plain": [
       "['2021-02-28 04:01:12.889Z INFO     ==========================',\n",
       " '2021-02-28 04:01:12.890Z INFO     New data capturing session',\n",
       " '2021-02-28 04:01:12.890Z INFO     --------------------------',\n",
       " \"2021-02-28 04:01:12.890Z INFO     Session CBF = 'cbf' (1 fengine, 2 beamformers, 1 correlator)\",\n",
       " '2021-02-28 04:01:12.891Z INFO     CBF instruments and streams:',\n",
       " \"2021-02-28 04:01:12.891Z INFO       -> 'wide' (1 fengine, 2 beamformers, 1 correlator)\",\n",
       " \"2021-02-28 04:01:12.891Z INFO            -> fengine    'wide.antenna-channelised-voltage' (128 inputs)\",\n",
       " \"2021-02-28 04:01:12.891Z INFO            -> beamformer 'wide.tied-array-channelised-voltage.0y' (64 inputs)\",\n",
       " \"2021-02-28 04:01:12.891Z INFO            -> beamformer 'wide.tied-array-channelised-voltage.0x' (64 inputs)\",\n",
       " \"2021-02-28 04:01:12.892Z INFO            -> correlator 'wide.baseline-correlation-products' (128 inputs)\",\n",
       " \"2021-02-28 04:01:12.892Z INFO     Session SDP = 'sdp' (1 product)\",\n",
       " '2021-02-28 04:01:12.892Z INFO     SDP products:',\n",
       " \"2021-02-28 04:01:12.892Z INFO       -> 'array_1_wide_2'\",\n",
       " '2021-02-28 04:01:12.892Z INFO     Session FBFUSE = (none)',\n",
       " '2021-02-28 04:01:12.893Z INFO     User product = c856M4k',\n",
       " '2021-02-28 04:01:12.893Z INFO     Antennas used = m047 m046 m045 m044 m043 m042 m041 m040 m003 m002 m001 m000 m061 m060 m049 m048 m008 m017 m009 m036 m037 m034 m035 m032 m030 m031 m006 m038 m039 m054 m055 m056 m057 m050 m051 m052 m053 m010 m011 m012 m013 m014 m059 m016 m015 m005 m007 m004 m018 m062 m063 m021 m020 m023 m022 m025 m024 m027 m026 m029 m028 m019 m058',\n",
       " '2021-02-28 04:01:12.922Z INFO     SETUP',\n",
       " '2021-02-28 04:01:12.922Z INFO     Observer = Benjamin Hugo',\n",
       " \"2021-02-28 04:01:12.922Z INFO     Description = 'RARG engineering: autocorrelation calibration test'\",\n",
       " '2021-02-28 04:01:12.922Z INFO     Experiment ID = 20210226-0016',\n",
       " '2021-02-28 04:01:12.922Z INFO     Proposal ID = COM-20210226-OS-01',\n",
       " '2021-02-28 04:01:12.922Z INFO     RF centre frequency = 1284 MHz, dump rate = 0.5 Hz',\n",
       " '2021-02-28 04:01:12.923Z INFO     Horizon = 30 degrees',\n",
       " '2021-02-28 04:01:12.923Z INFO     Quorum = 90% -> 57 of 63 receptor(s), i.e. 6 straggler(s) tolerated',\n",
       " '2021-02-28 04:01:12.930Z INFO     Delay tracking = on',\n",
       " '2021-02-28 04:01:12.931Z INFO     Switching off all noise diodes',\n",
       " '2021-02-28 04:01:13.050Z INFO     Noise diode will not fire automatically while performing canned commands',\n",
       " '2021-02-28 04:01:13.066Z INFO     Stopping / readying antennas',\n",
       " \"2021-02-28 04:01:17.896Z INFO     Capture block ID for SDP product 'array_1_wide_2' ('wide' instrument) = 1614484873\",\n",
       " '2021-02-28 04:01:17.915Z INFO     INIT',\n",
       " '2021-02-28 04:01:17.916Z INFO     Slewing to first target',\n",
       " '2021-02-28 04:01:19.445Z INFO     slewing to target',\n",
       " '2021-02-28 04:01:31.496Z INFO     target reached',\n",
       " '2021-02-28 04:01:31.502Z INFO     tracking target',\n",
       " '2021-02-28 04:01:31.502Z INFO     target tracked for 0.0 seconds',\n",
       " '2021-02-28 04:01:31.817Z INFO     --------------------------',\n",
       " '2021-02-28 04:01:31.820Z INFO     Initialising Track target 1934-638l1.0 for 180.0 sec',\n",
       " \"2021-02-28 04:01:31.821Z INFO     New compound scan: 'track'\",\n",
       " \"2021-02-28 04:01:31.822Z INFO     Initiating 180-second track on target '1934-638l1.0'\",\n",
       " '2021-02-28 04:01:32.924Z INFO     tracking target',\n",
       " '2021-02-28 04:04:33.014Z INFO     target tracked for 180.0 seconds',\n",
       " '2021-02-28 04:04:33.020Z INFO     Initialising Track target 1934-638l0.5 for 180.0 sec',\n",
       " \"2021-02-28 04:04:33.021Z INFO     New compound scan: 'track'\",\n",
       " \"2021-02-28 04:04:33.022Z INFO     Initiating 180-second track on target '1934-638l0.5'\",\n",
       " '2021-02-28 04:04:35.260Z INFO     slewing to target',\n",
       " '2021-02-28 04:04:41.405Z INFO     target reached',\n",
       " '2021-02-28 04:04:41.409Z INFO     tracking target',\n",
       " '2021-02-28 04:07:41.478Z INFO     target tracked for 180.0 seconds',\n",
       " '2021-02-28 04:07:41.483Z INFO     Initialising Track target, delaycal, gaincal, fluxcal, bpcal 1934-638 for 180.0 sec',\n",
       " \"2021-02-28 04:07:41.484Z INFO     New compound scan: 'track'\",\n",
       " \"2021-02-28 04:07:41.484Z INFO     Initiating 180-second track on target '1934-638'\",\n",
       " '2021-02-28 04:07:43.708Z INFO     slewing to target',\n",
       " '2021-02-28 04:07:49.450Z INFO     target reached',\n",
       " '2021-02-28 04:07:49.454Z INFO     tracking target',\n",
       " '2021-02-28 04:10:49.555Z INFO     target tracked for 180.0 seconds',\n",
       " '2021-02-28 04:10:49.559Z INFO     Initialising Track target 1934-638d1.0 for 180.0 sec',\n",
       " \"2021-02-28 04:10:49.560Z INFO     New compound scan: 'track'\",\n",
       " \"2021-02-28 04:10:49.561Z INFO     Initiating 180-second track on target '1934-638d1.0'\",\n",
       " '2021-02-28 04:10:51.726Z INFO     slewing to target',\n",
       " '2021-02-28 04:10:58.568Z INFO     target reached',\n",
       " '2021-02-28 04:10:58.573Z INFO     tracking target',\n",
       " '2021-02-28 04:13:58.606Z INFO     target tracked for 180.0 seconds',\n",
       " '2021-02-28 04:13:58.610Z INFO     Initialising Track target 1934-638d0.5 for 180.0 sec',\n",
       " \"2021-02-28 04:13:58.611Z INFO     New compound scan: 'track'\",\n",
       " \"2021-02-28 04:13:58.611Z INFO     Initiating 180-second track on target '1934-638d0.5'\",\n",
       " '2021-02-28 04:14:00.809Z INFO     slewing to target',\n",
       " '2021-02-28 04:14:07.252Z INFO     target reached',\n",
       " '2021-02-28 04:14:07.256Z INFO     tracking target',\n",
       " '2021-02-28 04:17:07.355Z INFO     target tracked for 180.0 seconds',\n",
       " '2021-02-28 04:17:07.359Z INFO     Initialising Track target, delaycal, gaincal, fluxcal, bpcal 1934-638 for 180.0 sec',\n",
       " \"2021-02-28 04:17:07.360Z INFO     New compound scan: 'track'\",\n",
       " \"2021-02-28 04:17:07.361Z INFO     Initiating 180-second track on target '1934-638'\",\n",
       " '2021-02-28 04:17:09.547Z INFO     slewing to target',\n",
       " '2021-02-28 04:17:14.987Z INFO     target reached',\n",
       " '2021-02-28 04:17:14.991Z INFO     tracking target',\n",
       " '2021-02-28 04:20:15.025Z INFO     target tracked for 180.0 seconds',\n",
       " '2021-02-28 04:20:15.028Z INFO     Initialising Track target 1934-638r1.0 for 180.0 sec',\n",
       " \"2021-02-28 04:20:15.029Z INFO     New compound scan: 'track'\",\n",
       " \"2021-02-28 04:20:15.030Z INFO     Initiating 180-second track on target '1934-638r1.0'\",\n",
       " '2021-02-28 04:20:17.183Z INFO     slewing to target',\n",
       " '2021-02-28 04:20:23.974Z INFO     target reached',\n",
       " '2021-02-28 04:20:23.979Z INFO     tracking target',\n",
       " '2021-02-28 04:23:24.059Z INFO     target tracked for 180.0 seconds',\n",
       " '2021-02-28 04:23:24.063Z INFO     Initialising Track target 1934-638r0.5 for 180.0 sec',\n",
       " \"2021-02-28 04:23:24.064Z INFO     New compound scan: 'track'\",\n",
       " \"2021-02-28 04:23:24.065Z INFO     Initiating 180-second track on target '1934-638r0.5'\",\n",
       " '2021-02-28 04:23:26.259Z INFO     slewing to target',\n",
       " \"2021-02-28 04:23:32.909Z INFO     Waiting for sensor 'lock' == True had 1 straggler(s): ['m013']\",\n",
       " '2021-02-28 04:23:32.910Z INFO     target reached',\n",
       " '2021-02-28 04:23:32.914Z INFO     tracking target',\n",
       " '2021-02-28 04:26:32.984Z INFO     target tracked for 180.0 seconds',\n",
       " '2021-02-28 04:26:32.987Z INFO     Initialising Track target, delaycal, gaincal, fluxcal, bpcal 1934-638 for 180.0 sec',\n",
       " \"2021-02-28 04:26:32.988Z INFO     New compound scan: 'track'\",\n",
       " \"2021-02-28 04:26:32.989Z INFO     Initiating 180-second track on target '1934-638'\",\n",
       " '2021-02-28 04:26:35.210Z INFO     slewing to target',\n",
       " \"2021-02-28 04:26:41.854Z INFO     Waiting for sensor 'lock' == True had 1 straggler(s): ['m013']\",\n",
       " '2021-02-28 04:26:41.855Z INFO     target reached',\n",
       " '2021-02-28 04:26:41.859Z INFO     tracking target',\n",
       " '2021-02-28 04:29:41.898Z INFO     target tracked for 180.0 seconds',\n",
       " '2021-02-28 04:29:41.902Z INFO     Initialising Track target 1934-638u1.0 for 180.0 sec',\n",
       " \"2021-02-28 04:29:41.903Z INFO     New compound scan: 'track'\",\n",
       " \"2021-02-28 04:29:41.903Z INFO     Initiating 180-second track on target '1934-638u1.0'\",\n",
       " '2021-02-28 04:29:44.210Z INFO     slewing to target',\n",
       " '2021-02-28 04:29:50.501Z INFO     target reached',\n",
       " '2021-02-28 04:29:50.506Z INFO     tracking target',\n",
       " '2021-02-28 04:32:50.590Z INFO     target tracked for 180.0 seconds',\n",
       " '2021-02-28 04:32:50.594Z INFO     Initialising Track target 1934-638u0.5 for 180.0 sec',\n",
       " \"2021-02-28 04:32:50.595Z INFO     New compound scan: 'track'\",\n",
       " \"2021-02-28 04:32:50.595Z INFO     Initiating 180-second track on target '1934-638u0.5'\",\n",
       " '2021-02-28 04:32:52.747Z INFO     slewing to target',\n",
       " \"2021-02-28 04:32:59.687Z INFO     Waiting for sensor 'lock' == True had 1 straggler(s): ['m013']\",\n",
       " '2021-02-28 04:32:59.688Z INFO     target reached',\n",
       " '2021-02-28 04:32:59.693Z INFO     tracking target',\n",
       " '2021-02-28 04:35:59.736Z INFO     target tracked for 180.0 seconds',\n",
       " '2021-02-28 04:35:59.738Z INFO     Observation list completed - ending observation',\n",
       " '2021-02-28 04:35:59.903Z INFO     DONE',\n",
       " '2021-02-28 04:35:59.904Z INFO     Ended data capturing session with experiment ID 20210226-0016',\n",
       " '2021-02-28 04:35:59.912Z INFO     Stopping / readying antennas',\n",
       " '2021-02-28 04:36:06.530Z INFO     ==========================']"
      ]
     },
     "execution_count": 7,
     "metadata": {},
     "output_type": "execute_result"
    }
   ],
   "source": [
    "data.obs_script_log"
   ]
  },
  {
   "cell_type": "code",
   "execution_count": 8,
   "metadata": {},
   "outputs": [],
   "source": [
    "ant='m000'\n",
    "pol='h'\n",
    "recv=ant+pol\n"
   ]
  },
  {
   "cell_type": "code",
   "execution_count": 9,
   "metadata": {},
   "outputs": [
    {
     "name": "stdout",
     "output_type": "stream",
     "text": [
      "(1035, 4096, 4)\n"
     ]
    }
   ],
   "source": [
    "data.select(ants=ant)\n",
    "print np.shape(data.vis)\n",
    "data.select()"
   ]
  },
  {
   "cell_type": "code",
   "execution_count": 10,
   "metadata": {},
   "outputs": [
    {
     "name": "stdout",
     "output_type": "stream",
     "text": [
      "(993,)\n",
      "(1035, 4096, 1)\n"
     ]
    }
   ],
   "source": [
    "data.select(ants=ant,pol=pol,scans='track')\n",
    "dp_t=data.dumps\n",
    "print np.shape(dp_t)\n",
    "data.select()\n",
    "\n",
    "data.select(ants=ant,pol=pol)\n",
    "print np.shape(data.vis)\n",
    "ra,dec,az,el=kio.load_coordinates(data)\n",
    "timestamps,freqs=kio.load_tf(data)\n"
   ]
  },
  {
   "cell_type": "code",
   "execution_count": 11,
   "metadata": {},
   "outputs": [
    {
     "name": "stdout",
     "output_type": "stream",
     "text": [
      "(1035, 4096)\n",
      "(1035, 4096)\n"
     ]
    }
   ],
   "source": [
    "vis_matrix=data.vis[:,:,:]\n",
    "assert(np.shape(vis_matrix)[2])==1 \n",
    "vis=vis_matrix[:,:,0].real\n",
    "print np.shape(vis)\n",
    "flags=data.flags\n",
    "vis_backup=vis.copy()\n",
    "print np.shape(vis)"
   ]
  },
  {
   "cell_type": "code",
   "execution_count": 12,
   "metadata": {},
   "outputs": [
    {
     "name": "stdout",
     "output_type": "stream",
     "text": [
      "[[[ 1593.28344727+0.j]\n",
      "  [   49.02909851+0.j]\n",
      "  [   49.06164932+0.j]\n",
      "  ..., \n",
      "  [    0.00000000+0.j]\n",
      "  [    0.00000000+0.j]\n",
      "  [    0.00000000+0.j]]\n",
      "\n",
      " [[ 1593.19470215+0.j]\n",
      "  [   49.05703354+0.j]\n",
      "  [   49.03352737+0.j]\n",
      "  ..., \n",
      "  [   75.68847656+0.j]\n",
      "  [   76.06445312+0.j]\n",
      "  [   77.03244781+0.j]]\n",
      "\n",
      " [[ 1591.69262695+0.j]\n",
      "  [   49.13543320+0.j]\n",
      "  [   49.17597580+0.j]\n",
      "  ..., \n",
      "  [   75.78733826+0.j]\n",
      "  [   76.15992737+0.j]\n",
      "  [   77.55350494+0.j]]\n",
      "\n",
      " ..., \n",
      " [[ 1628.91247559+0.j]\n",
      "  [   50.33228683+0.j]\n",
      "  [   50.29164886+0.j]\n",
      "  ..., \n",
      "  [   76.23934937+0.j]\n",
      "  [   76.75883484+0.j]\n",
      "  [   77.87708282+0.j]]\n",
      "\n",
      " [[ 1630.19726562+0.j]\n",
      "  [   50.26483154+0.j]\n",
      "  [   50.25271606+0.j]\n",
      "  ..., \n",
      "  [   76.41163635+0.j]\n",
      "  [   76.63421631+0.j]\n",
      "  [   77.73481750+0.j]]\n",
      "\n",
      " [[ 1631.00634766+0.j]\n",
      "  [   50.59283829+0.j]\n",
      "  [   50.19987106+0.j]\n",
      "  ..., \n",
      "  [   76.35801697+0.j]\n",
      "  [   76.76340485+0.j]\n",
      "  [   77.83745575+0.j]]]\n"
     ]
    }
   ],
   "source": [
    "print vis_matrix"
   ]
  },
  {
   "cell_type": "code",
   "execution_count": 13,
   "metadata": {},
   "outputs": [
    {
     "name": "stdout",
     "output_type": "stream",
     "text": [
      "[[ 1593.28344727    49.02909851    49.06164932 ...,     0.             0.\n",
      "      0.        ]\n",
      " [ 1593.19470215    49.05703354    49.03352737 ...,    75.68847656\n",
      "     76.06445312    77.03244781]\n",
      " [ 1591.69262695    49.1354332     49.1759758  ...,    75.78733826\n",
      "     76.15992737    77.55350494]\n",
      " ..., \n",
      " [ 1628.91247559    50.33228683    50.29164886 ...,    76.23934937\n",
      "     76.75883484    77.87708282]\n",
      " [ 1630.19726562    50.26483154    50.25271606 ...,    76.41163635\n",
      "     76.63421631    77.7348175 ]\n",
      " [ 1631.00634766    50.59283829    50.19987106 ...,    76.35801697\n",
      "     76.76340485    77.83745575]]\n"
     ]
    }
   ],
   "source": [
    "print vis"
   ]
  },
  {
   "cell_type": "code",
   "execution_count": 14,
   "metadata": {},
   "outputs": [
    {
     "data": {
      "image/png": "[encoded data removed]",
      "text/plain": [
       "<matplotlib.figure.Figure at 0x7fd79ba52e10>"
      ]
     },
     "metadata": {},
     "output_type": "display_data"
    }
   ],
   "source": [
    "plt.figure(figsize=(18,5))\n",
    "plt.subplot(211)\n",
    "plt.plot(timestamps[dp_t]-timestamps[0], az[dp_t], '.')\n",
    "#plt.xlabel('time(s)')\n",
    "plt.ylabel('az')\n",
    "plt.subplot(212)\n",
    "plt.plot(timestamps[dp_t]-timestamps[0], el[dp_t], '.')\n",
    "plt.xlabel('time(s)')\n",
    "plt.ylabel('el')\n",
    "plt.show()"
   ]
  },
  {
   "cell_type": "code",
   "execution_count": 15,
   "metadata": {},
   "outputs": [
    {
     "data": {
      "image/png": "[encoded data removed]",
      "text/plain": [
       "<matplotlib.figure.Figure at 0x7fd79c0afa10>"
      ]
     },
     "metadata": {},
     "output_type": "display_data"
    }
   ],
   "source": [
    "plt.figure(figsize=(4,4))\n",
    "plt.plot(az[dp_t],el[dp_t],'.')\n",
    "plt.xlabel('az')\n",
    "plt.ylabel('el')\n",
    "plt.show()"
   ]
  },
  {
   "cell_type": "code",
   "execution_count": 16,
   "metadata": {},
   "outputs": [
    {
     "data": {
      "image/png": "[encoded data removed]",
      "text/plain": [
       "<matplotlib.figure.Figure at 0x7fd79b6abe90>"
      ]
     },
     "metadata": {},
     "output_type": "display_data"
    }
   ],
   "source": [
    "plt.figure(figsize=(4,4))\n",
    "plt.plot(ra[dp_t],dec[dp_t],'.')\n",
    "plt.xlabel('R. A.')\n",
    "plt.ylabel('Dec')\n",
    "plt.show()"
   ]
  },
  {
   "cell_type": "code",
   "execution_count": 17,
   "metadata": {},
   "outputs": [],
   "source": [
    "data1 = pickle.load(open('/idia/projects/hi_im/raw_vis/'+str(fname)+'/'+str(fname)+'_'+str(recv)+'_vis_data','rb'))\n",
    "vis1=data1['vis']"
   ]
  },
  {
   "cell_type": "code",
   "execution_count": 18,
   "metadata": {},
   "outputs": [
    {
     "name": "stdout",
     "output_type": "stream",
     "text": [
      "-1838.40365601 10084.1650085\n"
     ]
    }
   ],
   "source": [
    "diff=vis-vis1\n",
    "print np.min(diff), np.max(diff)"
   ]
  },
  {
   "cell_type": "code",
   "execution_count": 19,
   "metadata": {},
   "outputs": [],
   "source": [
    "a=np.where(diff!=0)"
   ]
  },
  {
   "cell_type": "code",
   "execution_count": 20,
   "metadata": {},
   "outputs": [
    {
     "name": "stdout",
     "output_type": "stream",
     "text": [
      "(array([ 584,  584,  584, ..., 1022, 1022, 1022]), array([ 329,  330,  331, ..., 2301, 2302, 2303]))\n"
     ]
    }
   ],
   "source": [
    "print a"
   ]
  },
  {
   "cell_type": "code",
   "execution_count": 21,
   "metadata": {},
   "outputs": [
    {
     "name": "stdout",
     "output_type": "stream",
     "text": [
      "[ 306.49127197  306.7666626   306.43411255 ...,  235.6857605   235.14137268\n",
      "  235.72067261] [ 319.28396606  317.81338501  318.65835571 ...,  265.35253906  264.56298828\n",
      "  263.37237549]\n"
     ]
    }
   ],
   "source": [
    "print vis[a],vis1[a]"
   ]
  },
  {
   "cell_type": "code",
   "execution_count": 22,
   "metadata": {},
   "outputs": [
    {
     "data": {
      "image/png": "[encoded data removed]",
      "text/plain": [
       "<matplotlib.figure.Figure at 0x7fd798f45150>"
      ]
     },
     "metadata": {},
     "output_type": "display_data"
    }
   ],
   "source": [
    "#raw visibility\n",
    "plt.figure(figsize=(8,7))\n",
    "plt.imshow(vis,aspect='auto')\n",
    "plt.ylabel('time dump')\n",
    "plt.xlabel('channel')\n",
    "plt.title('new raw vis of '+str(fname)+', '+str(recv))\n",
    "plt.colorbar()\n",
    "#plt.savefig(str(fname)+'_'+str(recv)+'_raw_vis.pdf')\n",
    "plt.show()"
   ]
  },
  {
   "cell_type": "code",
   "execution_count": 23,
   "metadata": {},
   "outputs": [
    {
     "data": {
      "image/png": "[encoded data removed]",
      "text/plain": [
       "<matplotlib.figure.Figure at 0x7fd798b732d0>"
      ]
     },
     "metadata": {},
     "output_type": "display_data"
    }
   ],
   "source": [
    "#raw visibility\n",
    "plt.figure(figsize=(8,7))\n",
    "plt.imshow(vis1,aspect='auto')\n",
    "plt.ylabel('time dump')\n",
    "plt.xlabel('channel')\n",
    "plt.title('old raw vis of '+str(fname)+', '+str(recv))\n",
    "plt.colorbar()\n",
    "#plt.savefig(str(fname)+'_'+str(recv)+'_raw_vis.pdf')\n",
    "plt.show()"
   ]
  },
  {
   "cell_type": "code",
   "execution_count": 24,
   "metadata": {},
   "outputs": [],
   "source": [
    "diff1=np.ma.array(diff,mask=False)\n",
    "diff1.mask[np.where(diff1==0)]=True"
   ]
  },
  {
   "cell_type": "code",
   "execution_count": 25,
   "metadata": {},
   "outputs": [
    {
     "data": {
      "text/plain": [
       "masked_array(data =\n",
       " [[-- -- -- ..., -- -- --]\n",
       " [-- -- -- ..., -- -- --]\n",
       " [-- -- -- ..., -- -- --]\n",
       " ..., \n",
       " [-- -- -- ..., -- -- --]\n",
       " [-- -- -- ..., -- -- --]\n",
       " [-- -- -- ..., -- -- --]],\n",
       "             mask =\n",
       " [[ True  True  True ...,  True  True  True]\n",
       " [ True  True  True ...,  True  True  True]\n",
       " [ True  True  True ...,  True  True  True]\n",
       " ..., \n",
       " [ True  True  True ...,  True  True  True]\n",
       " [ True  True  True ...,  True  True  True]\n",
       " [ True  True  True ...,  True  True  True]],\n",
       "       fill_value = 1e+20)"
      ]
     },
     "execution_count": 25,
     "metadata": {},
     "output_type": "execute_result"
    }
   ],
   "source": [
    "diff1"
   ]
  },
  {
   "cell_type": "code",
   "execution_count": null,
   "metadata": {},
   "outputs": [],
   "source": []
  },
  {
   "cell_type": "code",
   "execution_count": 26,
   "metadata": {},
   "outputs": [
    {
     "data": {
      "image/png": "[encoded data removed]",
      "text/plain": [
       "<matplotlib.figure.Figure at 0x7fd7989e0150>"
      ]
     },
     "metadata": {},
     "output_type": "display_data"
    }
   ],
   "source": [
    "#raw visibility\n",
    "plt.figure(figsize=(8,7))\n",
    "plt.imshow(diff1,aspect='auto')\n",
    "plt.ylabel('time dump')\n",
    "plt.xlabel('channel')\n",
    "plt.title('diff1')\n",
    "plt.colorbar()\n",
    "#plt.savefig(str(fname)+'_'+str(recv)+'_raw_vis.pdf')\n",
    "plt.show()"
   ]
  },
  {
   "cell_type": "code",
   "execution_count": 27,
   "metadata": {},
   "outputs": [
    {
     "data": {
      "image/png": "[encoded data removed]",
      "text/plain": [
       "<matplotlib.figure.Figure at 0x7fd7985476d0>"
      ]
     },
     "metadata": {},
     "output_type": "display_data"
    }
   ],
   "source": [
    "plt.figure(figsize=(18,3.5))\n",
    "plt.subplot(131)\n",
    "plt.imshow(vis,aspect='auto',vmin=250,vmax=350)\n",
    "plt.ylabel('time dump')\n",
    "plt.xlabel('channel')\n",
    "plt.title('new vis')\n",
    "plt.xlim(300,500)\n",
    "plt.ylim(580,590)\n",
    "plt.colorbar()\n",
    "plt.subplot(132)\n",
    "plt.imshow(vis1,aspect='auto',vmin=250,vmax=350)\n",
    "#plt.ylabel('time dump')\n",
    "plt.xlabel('channel')\n",
    "plt.title('old vis')\n",
    "plt.xlim(300,500)\n",
    "plt.ylim(580,590)\n",
    "plt.colorbar()\n",
    "plt.subplot(133)\n",
    "plt.imshow(diff1,aspect='auto',vmin=250,vmax=350)\n",
    "#plt.ylabel('time dump')\n",
    "plt.xlabel('channel')\n",
    "plt.title('new-old')\n",
    "plt.xlim(300,500)\n",
    "plt.ylim(580,590)\n",
    "plt.colorbar()\n",
    "plt.show()"
   ]
  },
  {
   "cell_type": "code",
   "execution_count": 28,
   "metadata": {},
   "outputs": [
    {
     "data": {
      "image/png": "[encoded data removed]",
      "text/plain": [
       "<matplotlib.figure.Figure at 0x7fd798321d90>"
      ]
     },
     "metadata": {},
     "output_type": "display_data"
    }
   ],
   "source": [
    "plt.figure(figsize=(8,3))\n",
    "plt.plot(vis[584,:],'g')\n",
    "plt.xlim(300,550)\n",
    "plt.title('new vis (block for autos)')\n",
    "plt.show()"
   ]
  },
  {
   "cell_type": "code",
   "execution_count": 29,
   "metadata": {},
   "outputs": [
    {
     "data": {
      "image/png": "[encoded data removed]",
      "text/plain": [
       "<matplotlib.figure.Figure at 0x7fd79858a4d0>"
      ]
     },
     "metadata": {},
     "output_type": "display_data"
    }
   ],
   "source": [
    "plt.figure(figsize=(8,3))\n",
    "plt.plot(vis1[584,:],'r')\n",
    "plt.xlim(300,550)\n",
    "plt.ylim(250,350)\n",
    "plt.title('old vis (full block)')\n",
    "plt.show()"
   ]
  },
  {
   "cell_type": "code",
   "execution_count": 30,
   "metadata": {},
   "outputs": [
    {
     "data": {
      "image/png": "[encoded data removed]",
      "text/plain": [
       "<matplotlib.figure.Figure at 0x7fd7504f1b90>"
      ]
     },
     "metadata": {},
     "output_type": "display_data"
    }
   ],
   "source": [
    "plt.figure(figsize=(8,3))\n",
    "plt.plot(diff1[584,:],'y.')\n",
    "plt.xlim(300,550)\n",
    "plt.title('diff1')\n",
    "plt.show()"
   ]
  },
  {
   "cell_type": "code",
   "execution_count": 31,
   "metadata": {},
   "outputs": [
    {
     "name": "stdout",
     "output_type": "stream",
     "text": [
      "[False False False ..., False False False]\n",
      "False\n",
      "[ 0.  0.  0. ...,  0.  0.  0.]\n"
     ]
    },
    {
     "data": {
      "image/png": "[encoded data removed]",
      "text/plain": [
       "<matplotlib.figure.Figure at 0x7fd79852c2d0>"
      ]
     },
     "metadata": {},
     "output_type": "display_data"
    }
   ],
   "source": [
    "noise_type='coupler'\n",
    "print data.sensor['Antennas/{0}/nd_{1}'.format(ant,noise_type)]\n",
    "print (data.sensor['Antennas/{0}/nd_{1}'.format(ant,noise_type)]==True).all()\n",
    "\n",
    "nd_ratio=data.sensor['Antennas/{0}/nd_{1}'.format(ant,noise_type)].astype(float)\n",
    "print nd_ratio\n",
    "\n",
    "plt.figure(figsize=(18,2))\n",
    "plt.plot(timestamps-timestamps[0], nd_ratio, '.')\n",
    "plt.xlabel('time(s)')\n",
    "plt.ylabel('nd')\n",
    "plt.show()"
   ]
  },
  {
   "cell_type": "code",
   "execution_count": 32,
   "metadata": {},
   "outputs": [],
   "source": [
    "##check save_data"
   ]
  },
  {
   "cell_type": "code",
   "execution_count": 33,
   "metadata": {},
   "outputs": [
    {
     "data": {
      "text/plain": [
       "['2021-02-28 04:01:12.889Z INFO     ==========================',\n",
       " '2021-02-28 04:01:12.890Z INFO     New data capturing session',\n",
       " '2021-02-28 04:01:12.890Z INFO     --------------------------',\n",
       " \"2021-02-28 04:01:12.890Z INFO     Session CBF = 'cbf' (1 fengine, 2 beamformers, 1 correlator)\",\n",
       " '2021-02-28 04:01:12.891Z INFO     CBF instruments and streams:',\n",
       " \"2021-02-28 04:01:12.891Z INFO       -> 'wide' (1 fengine, 2 beamformers, 1 correlator)\",\n",
       " \"2021-02-28 04:01:12.891Z INFO            -> fengine    'wide.antenna-channelised-voltage' (128 inputs)\",\n",
       " \"2021-02-28 04:01:12.891Z INFO            -> beamformer 'wide.tied-array-channelised-voltage.0y' (64 inputs)\",\n",
       " \"2021-02-28 04:01:12.891Z INFO            -> beamformer 'wide.tied-array-channelised-voltage.0x' (64 inputs)\",\n",
       " \"2021-02-28 04:01:12.892Z INFO            -> correlator 'wide.baseline-correlation-products' (128 inputs)\",\n",
       " \"2021-02-28 04:01:12.892Z INFO     Session SDP = 'sdp' (1 product)\",\n",
       " '2021-02-28 04:01:12.892Z INFO     SDP products:',\n",
       " \"2021-02-28 04:01:12.892Z INFO       -> 'array_1_wide_2'\",\n",
       " '2021-02-28 04:01:12.892Z INFO     Session FBFUSE = (none)',\n",
       " '2021-02-28 04:01:12.893Z INFO     User product = c856M4k',\n",
       " '2021-02-28 04:01:12.893Z INFO     Antennas used = m047 m046 m045 m044 m043 m042 m041 m040 m003 m002 m001 m000 m061 m060 m049 m048 m008 m017 m009 m036 m037 m034 m035 m032 m030 m031 m006 m038 m039 m054 m055 m056 m057 m050 m051 m052 m053 m010 m011 m012 m013 m014 m059 m016 m015 m005 m007 m004 m018 m062 m063 m021 m020 m023 m022 m025 m024 m027 m026 m029 m028 m019 m058',\n",
       " '2021-02-28 04:01:12.922Z INFO     SETUP',\n",
       " '2021-02-28 04:01:12.922Z INFO     Observer = Benjamin Hugo',\n",
       " \"2021-02-28 04:01:12.922Z INFO     Description = 'RARG engineering: autocorrelation calibration test'\",\n",
       " '2021-02-28 04:01:12.922Z INFO     Experiment ID = 20210226-0016',\n",
       " '2021-02-28 04:01:12.922Z INFO     Proposal ID = COM-20210226-OS-01',\n",
       " '2021-02-28 04:01:12.922Z INFO     RF centre frequency = 1284 MHz, dump rate = 0.5 Hz',\n",
       " '2021-02-28 04:01:12.923Z INFO     Horizon = 30 degrees',\n",
       " '2021-02-28 04:01:12.923Z INFO     Quorum = 90% -> 57 of 63 receptor(s), i.e. 6 straggler(s) tolerated',\n",
       " '2021-02-28 04:01:12.930Z INFO     Delay tracking = on',\n",
       " '2021-02-28 04:01:12.931Z INFO     Switching off all noise diodes',\n",
       " '2021-02-28 04:01:13.050Z INFO     Noise diode will not fire automatically while performing canned commands',\n",
       " '2021-02-28 04:01:13.066Z INFO     Stopping / readying antennas',\n",
       " \"2021-02-28 04:01:17.896Z INFO     Capture block ID for SDP product 'array_1_wide_2' ('wide' instrument) = 1614484873\",\n",
       " '2021-02-28 04:01:17.915Z INFO     INIT',\n",
       " '2021-02-28 04:01:17.916Z INFO     Slewing to first target',\n",
       " '2021-02-28 04:01:19.445Z INFO     slewing to target',\n",
       " '2021-02-28 04:01:31.496Z INFO     target reached',\n",
       " '2021-02-28 04:01:31.502Z INFO     tracking target',\n",
       " '2021-02-28 04:01:31.502Z INFO     target tracked for 0.0 seconds',\n",
       " '2021-02-28 04:01:31.817Z INFO     --------------------------',\n",
       " '2021-02-28 04:01:31.820Z INFO     Initialising Track target 1934-638l1.0 for 180.0 sec',\n",
       " \"2021-02-28 04:01:31.821Z INFO     New compound scan: 'track'\",\n",
       " \"2021-02-28 04:01:31.822Z INFO     Initiating 180-second track on target '1934-638l1.0'\",\n",
       " '2021-02-28 04:01:32.924Z INFO     tracking target',\n",
       " '2021-02-28 04:04:33.014Z INFO     target tracked for 180.0 seconds',\n",
       " '2021-02-28 04:04:33.020Z INFO     Initialising Track target 1934-638l0.5 for 180.0 sec',\n",
       " \"2021-02-28 04:04:33.021Z INFO     New compound scan: 'track'\",\n",
       " \"2021-02-28 04:04:33.022Z INFO     Initiating 180-second track on target '1934-638l0.5'\",\n",
       " '2021-02-28 04:04:35.260Z INFO     slewing to target',\n",
       " '2021-02-28 04:04:41.405Z INFO     target reached',\n",
       " '2021-02-28 04:04:41.409Z INFO     tracking target',\n",
       " '2021-02-28 04:07:41.478Z INFO     target tracked for 180.0 seconds',\n",
       " '2021-02-28 04:07:41.483Z INFO     Initialising Track target, delaycal, gaincal, fluxcal, bpcal 1934-638 for 180.0 sec',\n",
       " \"2021-02-28 04:07:41.484Z INFO     New compound scan: 'track'\",\n",
       " \"2021-02-28 04:07:41.484Z INFO     Initiating 180-second track on target '1934-638'\",\n",
       " '2021-02-28 04:07:43.708Z INFO     slewing to target',\n",
       " '2021-02-28 04:07:49.450Z INFO     target reached',\n",
       " '2021-02-28 04:07:49.454Z INFO     tracking target',\n",
       " '2021-02-28 04:10:49.555Z INFO     target tracked for 180.0 seconds',\n",
       " '2021-02-28 04:10:49.559Z INFO     Initialising Track target 1934-638d1.0 for 180.0 sec',\n",
       " \"2021-02-28 04:10:49.560Z INFO     New compound scan: 'track'\",\n",
       " \"2021-02-28 04:10:49.561Z INFO     Initiating 180-second track on target '1934-638d1.0'\",\n",
       " '2021-02-28 04:10:51.726Z INFO     slewing to target',\n",
       " '2021-02-28 04:10:58.568Z INFO     target reached',\n",
       " '2021-02-28 04:10:58.573Z INFO     tracking target',\n",
       " '2021-02-28 04:13:58.606Z INFO     target tracked for 180.0 seconds',\n",
       " '2021-02-28 04:13:58.610Z INFO     Initialising Track target 1934-638d0.5 for 180.0 sec',\n",
       " \"2021-02-28 04:13:58.611Z INFO     New compound scan: 'track'\",\n",
       " \"2021-02-28 04:13:58.611Z INFO     Initiating 180-second track on target '1934-638d0.5'\",\n",
       " '2021-02-28 04:14:00.809Z INFO     slewing to target',\n",
       " '2021-02-28 04:14:07.252Z INFO     target reached',\n",
       " '2021-02-28 04:14:07.256Z INFO     tracking target',\n",
       " '2021-02-28 04:17:07.355Z INFO     target tracked for 180.0 seconds',\n",
       " '2021-02-28 04:17:07.359Z INFO     Initialising Track target, delaycal, gaincal, fluxcal, bpcal 1934-638 for 180.0 sec',\n",
       " \"2021-02-28 04:17:07.360Z INFO     New compound scan: 'track'\",\n",
       " \"2021-02-28 04:17:07.361Z INFO     Initiating 180-second track on target '1934-638'\",\n",
       " '2021-02-28 04:17:09.547Z INFO     slewing to target',\n",
       " '2021-02-28 04:17:14.987Z INFO     target reached',\n",
       " '2021-02-28 04:17:14.991Z INFO     tracking target',\n",
       " '2021-02-28 04:20:15.025Z INFO     target tracked for 180.0 seconds',\n",
       " '2021-02-28 04:20:15.028Z INFO     Initialising Track target 1934-638r1.0 for 180.0 sec',\n",
       " \"2021-02-28 04:20:15.029Z INFO     New compound scan: 'track'\",\n",
       " \"2021-02-28 04:20:15.030Z INFO     Initiating 180-second track on target '1934-638r1.0'\",\n",
       " '2021-02-28 04:20:17.183Z INFO     slewing to target',\n",
       " '2021-02-28 04:20:23.974Z INFO     target reached',\n",
       " '2021-02-28 04:20:23.979Z INFO     tracking target',\n",
       " '2021-02-28 04:23:24.059Z INFO     target tracked for 180.0 seconds',\n",
       " '2021-02-28 04:23:24.063Z INFO     Initialising Track target 1934-638r0.5 for 180.0 sec',\n",
       " \"2021-02-28 04:23:24.064Z INFO     New compound scan: 'track'\",\n",
       " \"2021-02-28 04:23:24.065Z INFO     Initiating 180-second track on target '1934-638r0.5'\",\n",
       " '2021-02-28 04:23:26.259Z INFO     slewing to target',\n",
       " \"2021-02-28 04:23:32.909Z INFO     Waiting for sensor 'lock' == True had 1 straggler(s): ['m013']\",\n",
       " '2021-02-28 04:23:32.910Z INFO     target reached',\n",
       " '2021-02-28 04:23:32.914Z INFO     tracking target',\n",
       " '2021-02-28 04:26:32.984Z INFO     target tracked for 180.0 seconds',\n",
       " '2021-02-28 04:26:32.987Z INFO     Initialising Track target, delaycal, gaincal, fluxcal, bpcal 1934-638 for 180.0 sec',\n",
       " \"2021-02-28 04:26:32.988Z INFO     New compound scan: 'track'\",\n",
       " \"2021-02-28 04:26:32.989Z INFO     Initiating 180-second track on target '1934-638'\",\n",
       " '2021-02-28 04:26:35.210Z INFO     slewing to target',\n",
       " \"2021-02-28 04:26:41.854Z INFO     Waiting for sensor 'lock' == True had 1 straggler(s): ['m013']\",\n",
       " '2021-02-28 04:26:41.855Z INFO     target reached',\n",
       " '2021-02-28 04:26:41.859Z INFO     tracking target',\n",
       " '2021-02-28 04:29:41.898Z INFO     target tracked for 180.0 seconds',\n",
       " '2021-02-28 04:29:41.902Z INFO     Initialising Track target 1934-638u1.0 for 180.0 sec',\n",
       " \"2021-02-28 04:29:41.903Z INFO     New compound scan: 'track'\",\n",
       " \"2021-02-28 04:29:41.903Z INFO     Initiating 180-second track on target '1934-638u1.0'\",\n",
       " '2021-02-28 04:29:44.210Z INFO     slewing to target',\n",
       " '2021-02-28 04:29:50.501Z INFO     target reached',\n",
       " '2021-02-28 04:29:50.506Z INFO     tracking target',\n",
       " '2021-02-28 04:32:50.590Z INFO     target tracked for 180.0 seconds',\n",
       " '2021-02-28 04:32:50.594Z INFO     Initialising Track target 1934-638u0.5 for 180.0 sec',\n",
       " \"2021-02-28 04:32:50.595Z INFO     New compound scan: 'track'\",\n",
       " \"2021-02-28 04:32:50.595Z INFO     Initiating 180-second track on target '1934-638u0.5'\",\n",
       " '2021-02-28 04:32:52.747Z INFO     slewing to target',\n",
       " \"2021-02-28 04:32:59.687Z INFO     Waiting for sensor 'lock' == True had 1 straggler(s): ['m013']\",\n",
       " '2021-02-28 04:32:59.688Z INFO     target reached',\n",
       " '2021-02-28 04:32:59.693Z INFO     tracking target',\n",
       " '2021-02-28 04:35:59.736Z INFO     target tracked for 180.0 seconds',\n",
       " '2021-02-28 04:35:59.738Z INFO     Observation list completed - ending observation',\n",
       " '2021-02-28 04:35:59.903Z INFO     DONE',\n",
       " '2021-02-28 04:35:59.904Z INFO     Ended data capturing session with experiment ID 20210226-0016',\n",
       " '2021-02-28 04:35:59.912Z INFO     Stopping / readying antennas',\n",
       " '2021-02-28 04:36:06.530Z INFO     ==========================']"
      ]
     },
     "execution_count": 33,
     "metadata": {},
     "output_type": "execute_result"
    }
   ],
   "source": [
    "data.obs_script_log"
   ]
  },
  {
   "cell_type": "code",
   "execution_count": 34,
   "metadata": {},
   "outputs": [
    {
     "name": "stdout",
     "output_type": "stream",
     "text": [
      "#check data shape\n",
      "-------------------------------------------------\n",
      "#select all ants\n",
      "block related parameters:\n",
      "(1035,) (1035,) (1035,) (1035,)\n",
      "ant related parameters:\n",
      "(1035, 63) (1035, 63) (1035, 63) (1035, 63) (1035, 63)\n",
      "-------------------------------------------------\n",
      "#select one ant\n",
      "block related parameters:\n",
      "(1035,) (1035,) (1035,) (1035,)\n",
      "ant related parameters:\n",
      "(1035, 1) (1035, 1) (1035, 1) (1035, 1) (1035, 1)\n",
      "-------------------------------------------------\n"
     ]
    }
   ],
   "source": [
    "print '#check data shape'\n",
    "print '-------------------------------------------------'\n",
    "print '#select all ants'\n",
    "data.select()\n",
    "print 'block related parameters:'\n",
    "print np.shape(data.timestamps),np.shape(data.temperature),np.shape(data.humidity),np.shape(data.pressure)\n",
    "print 'ant related parameters:'\n",
    "print np.shape(data.ra),np.shape(data.dec),np.shape(data.az),np.shape(data.el),np.shape(data.parangle)\n",
    "print '-------------------------------------------------'\n",
    "print '#select one ant'\n",
    "data.select(ants=ant)\n",
    "print 'block related parameters:'\n",
    "print np.shape(data.timestamps),np.shape(data.temperature),np.shape(data.humidity),np.shape(data.pressure)\n",
    "print 'ant related parameters:'\n",
    "print np.shape(data.ra),np.shape(data.dec),np.shape(data.az),np.shape(data.el),np.shape(data.parangle)\n",
    "print '-------------------------------------------------'"
   ]
  },
  {
   "cell_type": "code",
   "execution_count": 35,
   "metadata": {},
   "outputs": [
    {
     "name": "stdout",
     "output_type": "stream",
     "text": [
      "1035\n",
      "1035\n",
      "993\n",
      "993\n"
     ]
    }
   ],
   "source": [
    "#'''\n",
    "data.select()\n",
    "print len(data.timestamps)\n",
    "data.select(ants=ant,pol=pol)\n",
    "print len(data.timestamps)\n",
    "data.select(ants=ant,pol=pol,scans='track')\n",
    "print len(data.timestamps)\n",
    "dp_t=data.dumps\n",
    "print len(dp_t)\n",
    "#'''"
   ]
  },
  {
   "cell_type": "code",
   "execution_count": 36,
   "metadata": {},
   "outputs": [
    {
     "name": "stdout",
     "output_type": "stream",
     "text": [
      "1035\n",
      "1035\n",
      "986\n"
     ]
    }
   ],
   "source": [
    "#'''\n",
    "data.select()\n",
    "print len(data.timestamps)\n",
    "data.select(ants=ant,pol=pol)\n",
    "print len(data.timestamps)\n",
    "ss=data.sensor['Antennas/{0}/activity'.format(ant)]\n",
    "dp_t2= np.where(ss=='track')[0]\n",
    "print len(dp_t2)\n",
    "#'''"
   ]
  },
  {
   "cell_type": "code",
   "execution_count": 37,
   "metadata": {},
   "outputs": [
    {
     "name": "stdout",
     "output_type": "stream",
     "text": [
      "983\n"
     ]
    }
   ],
   "source": [
    "#'''\n",
    "dp_inter=list(set(dp_t).intersection(set(dp_t2)))\n",
    "print len(dp_inter)\n",
    "#'''"
   ]
  },
  {
   "cell_type": "code",
   "execution_count": 38,
   "metadata": {},
   "outputs": [
    {
     "name": "stdout",
     "output_type": "stream",
     "text": [
      "10\n",
      "3\n"
     ]
    }
   ],
   "source": [
    "#'''\n",
    "dp_diff1=list(set(dp_t)-set(dp_inter))\n",
    "print len(dp_diff1)\n",
    "dp_diff2=list(set(dp_t2)-set(dp_inter))\n",
    "print len(dp_diff2)\n",
    "#'''"
   ]
  },
  {
   "cell_type": "code",
   "execution_count": 39,
   "metadata": {},
   "outputs": [
    {
     "data": {
      "image/png": "[encoded data removed]",
      "text/plain": [
       "<matplotlib.figure.Figure at 0x7fd79b3da810>"
      ]
     },
     "metadata": {},
     "output_type": "display_data"
    }
   ],
   "source": [
    "#'''\n",
    "ch_plot=800\n",
    "plt.figure(figsize=(12,4))\n",
    "plt.plot(timestamps[dp_t]-timestamps[0],vis[dp_t,ch_plot],'k.')\n",
    "plt.plot(timestamps[dp_t2]-timestamps[0],vis[dp_t2,ch_plot],'g.')\n",
    "plt.plot(timestamps[dp_diff1]-timestamps[0],vis[dp_diff1,ch_plot],'r.')\n",
    "plt.plot(timestamps[dp_diff2]-timestamps[0],vis[dp_diff2,ch_plot],'m.')\n",
    "plt.show()\n",
    "#'''"
   ]
  },
  {
   "cell_type": "code",
   "execution_count": 40,
   "metadata": {},
   "outputs": [
    {
     "name": "stdout",
     "output_type": "stream",
     "text": [
      "m000 m001 m002 m003 m004 m005 m006 m007 m008 m009 m010 m011 m012 m013 m014 m015 m016 m017 m018 m019 m020 m021 m022 m023 m024 m025 m026 m027 m028 m029 m030 m031 m032 m034 m035 m036 m037 m038 m039 m040 m041 m042 m043 m044 m045 m046 m047 m048 m049 m050 m051 m052 m053 m054 m055 m056 m057 m058 m059 m060 m061 m062 m063\n"
     ]
    }
   ],
   "source": [
    "#start\n",
    "data2={}\n",
    "\n",
    "#each block\n",
    "data.select()\n",
    "data2['timestamps']=data.timestamps\n",
    "data2['freqs']=data.freqs\n",
    "data2['temperature']=data.temperature\n",
    "data2['humidity']=data.humidity\n",
    "data2['pressure']=data.pressure\n",
    "data2['receivers']=data.receivers\n",
    "data2['obs_script_log']=data.obs_script_log   \n",
    "data2['header']=data.__str__()\n",
    "data2['ant_list']=kio.ant_list(data)\n",
    "#each dish\n",
    "data.select()\n",
    "for ant in kio.ant_list(data):\n",
    "    print ant,\n",
    "    data.select(ants=ant)\n",
    "    assert(np.shape(data.ra)[1]==1)\n",
    "    data2[ant]={\n",
    "    'ra': data.ra[:,0],    \n",
    "    'dec':data.dec[:,0],    \n",
    "    'az':data.az[:,0],\n",
    "    'el':data.el[:,0],\n",
    "    'ScanState':data.sensor['Antennas/{0}/activity'.format(ant)], #track\n",
    "    'nd_ratio':data.sensor['Antennas/{0}/nd_{1}'.format(ant,noise_type)].astype(float),\n",
    "    'observer_elevation':data.ants[0].observer.elevation,\n",
    "    'observer_lon_rad':float(data.ants[0].observer.lon),\n",
    "    'observer_lat_rad':float(data.ants[0].observer.lat)  \n",
    "    }\n",
    "d2=kio.RecDictWrapper(data2)"
   ]
  },
  {
   "cell_type": "code",
   "execution_count": 41,
   "metadata": {},
   "outputs": [
    {
     "name": "stdout",
     "output_type": "stream",
     "text": [
      "True\n"
     ]
    }
   ],
   "source": [
    "assert((d2.m000.ra==ra).all())\n",
    "print (d2.m000.ra==ra).all()"
   ]
  },
  {
   "cell_type": "code",
   "execution_count": 42,
   "metadata": {},
   "outputs": [],
   "source": [
    "fs=open(fname+'_para','wb')\n",
    "pickle.dump(d2,fs,protocol=2)\n",
    "fs.close()"
   ]
  },
  {
   "cell_type": "code",
   "execution_count": 43,
   "metadata": {},
   "outputs": [
    {
     "name": "stdout",
     "output_type": "stream",
     "text": [
      "# reload saved data to check\n"
     ]
    }
   ],
   "source": [
    "print '# reload saved data to check'"
   ]
  },
  {
   "cell_type": "code",
   "execution_count": 44,
   "metadata": {},
   "outputs": [
    {
     "name": "stdout",
     "output_type": "stream",
     "text": [
      "['m047', 'm046', 'ant_list', 'm008', 'm043', 'obs_script_log', 'm041', 'm040', 'm003', 'm002', 'm001', 'm000', 'm007', 'm006', 'm005', 'm004', 'header', 'm044', 'm054', 'm059', 'm042', 'm061', 'temperature', 'm009', 'm053', 'm055', 'm036', 'm037', 'm034', 'm035', 'm032', 'm030', 'm031', 'timestamps', 'm038', 'm039', 'm018', 'm019', 'm056', 'm057', 'm050', 'm051', 'm052', 'receivers', 'm010', 'm011', 'm012', 'm013', 'm014', 'm015', 'm016', 'm017', 'm060', 'pressure', 'm049', 'm048', 'm045', 'm062', 'freqs', 'm063', 'humidity', 'm021', 'm020', 'm023', 'm022', 'm025', 'm024', 'm027', 'm026', 'm029', 'm028', 'm058']\n"
     ]
    }
   ],
   "source": [
    "d3 = pickle.load(open(fname+'_para'))\n",
    "print d3.keys"
   ]
  },
  {
   "cell_type": "code",
   "execution_count": 45,
   "metadata": {},
   "outputs": [
    {
     "name": "stdout",
     "output_type": "stream",
     "text": [
      "True\n"
     ]
    }
   ],
   "source": [
    "assert((d3.m000.ra==ra).all())\n",
    "print (d3.m000.ra==ra).all()"
   ]
  },
  {
   "cell_type": "code",
   "execution_count": 46,
   "metadata": {},
   "outputs": [
    {
     "name": "stdout",
     "output_type": "stream",
     "text": [
      "===============================================================================\n",
      "Name: file:///idia/projects/hi_im/SCI-20190418-MS-01/1614484873-autos/1614484873/1614484873_sdp_l0.full.rdb | 1614484873-sdp-l0 (version 4.0)\n",
      "===============================================================================\n",
      "Observer: Benjamin Hugo  Experiment ID: 20210226-0016\n",
      "Description: 'RARG engineering: autocorrelation calibration test'\n",
      "Observed from 2021-02-28 06:01:30.757 SAST to 2021-02-28 06:35:59.881 SAST\n",
      "Dump rate / period: 0.50021 Hz / 1.999 s\n",
      "Subarrays: 1\n",
      "  ID  Antennas                            Inputs  Corrprods\n",
      "   0  m000,m001,m002,m003,m004,m005,m006,m007,m008,m009,m010,m011,m012,m013,m014,m015,m016,m017,m018,m019,m020,m021,m022,m023,m024,m025,m026,m027,m028,m029,m030,m031,m032,m034,m035,m036,m037,m038,m039,m040,m041,m042,m043,m044,m045,m046,m047,m048,m049,m050,m051,m052,m053,m054,m055,m056,m057,m058,m059,m060,m061,m062,m063  126      252\n",
      "Spectral Windows: 1\n",
      "  ID Band Product  CentreFreq(MHz)  Bandwidth(MHz)  Channels  ChannelWidth(kHz)\n",
      "   0 L    c856M4k    1284.000         856.000           4096       208.984\n",
      "-------------------------------------------------------------------------------\n",
      "Data selected according to the following criteria:\n",
      "  spw=0\n",
      "  subarray=0\n",
      "-------------------------------------------------------------------------------\n",
      "Shape: (1035 dumps, 4096 channels, 252 correlation products) => Size: 8.547 GB\n",
      "Antennas: m000,m001,m002,m003,m004,m005,m006,m007,m008,m009,m010,m011,m012,m013,m014,m015,m016,m017,m018,m019,m020,m021,m022,m023,m024,m025,m026,m027,m028,m029,m030,m031,m032,m034,m035,m036,m037,m038,m039,m040,m041,m042,m043,m044,m045,m046,m047,m048,m049,m050,m051,m052,m053,m054,m055,m056,m057,m058,m059,m060,m061,m062,m063  Inputs: 126  Autocorr: yes  Crosscorr: no\n",
      "Channels: 4096 (index 0 - 4095,  856.000 MHz - 1711.791 MHz), each 208.984 kHz wide\n",
      "Targets: 9 selected out of 9 in catalogue\n",
      "  ID  Name          Type      RA(J2000)     DEC(J2000)  Tags                                   Dumps  ModelFlux(Jy)\n",
      "   0  1934-638l1.0  radec     19:33:11.23  -62:59:49.1  target                                    92  \n",
      "   1  1934-638l0.5  radec     19:34:54.10  -63:42:29.7  target                                    94  \n",
      "   2  1934-638      radec     19:39:25.03  -63:42:45.6  target delaycal gaincal fluxcal bpcal    281  \n",
      "   3  1934-638d1.0  radec     19:32:52.08  -64:24:38.5  target                                    95  \n",
      "   4  1934-638d0.5  radec     19:39:25.03  -64:12:45.6  target                                    94  \n",
      "   5  1934-638r1.0  radec     19:45:57.97  -64:24:38.5  target                                    93  \n",
      "   6  1934-638r0.5  radec     19:43:55.96  -63:42:29.7  target                                    96  \n",
      "   7  1934-638u1.0  radec     19:45:38.82  -62:59:49.1  target                                    96  \n",
      "   8  1934-638u0.5  radec     19:39:25.03  -63:12:45.6  target                                    94  \n",
      "Scans: 24 selected out of 24 total       Compscans: 11 selected out of 11 total\n",
      "  Date        Timerange(UTC)       ScanState  CompScanLabel  Dumps  Target\n",
      "  28-Feb-2021/04:01:31 - 04:01:31    0:slew     0:track          1    0:1934-638l1.0\n",
      "              04:01:33 - 04:04:33    1:track    0:track         91    0:1934-638l1.0\n",
      "              04:04:35 - 04:04:41    2:slew     1:track          4    1:1934-638l0.5\n",
      "              04:04:43 - 04:07:41    3:track    1:track         90    1:1934-638l0.5\n",
      "              04:07:43 - 04:07:49    4:slew     2:track          4    2:1934-638\n",
      "              04:07:51 - 04:10:49    5:track    2:track         90    2:1934-638\n",
      "              04:10:51 - 04:10:59    6:slew     3:track          5    3:1934-638d1.0\n",
      "              04:11:01 - 04:13:59    7:track    3:track         90    3:1934-638d1.0\n",
      "              04:14:01 - 04:14:07    8:slew     4:track          4    4:1934-638d0.5\n",
      "              04:14:09 - 04:17:07    9:track    4:track         90    4:1934-638d0.5\n",
      "              04:17:09 - 04:17:15   10:slew     5:track          4    2:1934-638\n",
      "              04:17:17 - 04:20:15   11:track    5:track         90    2:1934-638\n",
      "              04:20:17 - 04:20:23   12:slew     6:track          4    5:1934-638r1.0\n",
      "              04:20:25 - 04:23:21   13:track    6:track         89    5:1934-638r1.0\n",
      "              04:23:23 - 04:23:25   14:track    7:track          2    6:1934-638r0.5\n",
      "              04:23:27 - 04:23:33   15:slew     7:track          4    6:1934-638r0.5\n",
      "              04:23:35 - 04:26:33   16:track    7:track         90    6:1934-638r0.5\n",
      "              04:26:35 - 04:26:41   17:slew     8:track          4    2:1934-638\n",
      "              04:26:43 - 04:29:39   18:track    8:track         89    2:1934-638\n",
      "              04:29:41 - 04:29:43   19:track    9:track          2    7:1934-638u1.0\n",
      "              04:29:45 - 04:29:51   20:slew     9:track          4    7:1934-638u1.0\n",
      "              04:29:53 - 04:32:50   21:track    9:track         90    7:1934-638u1.0\n",
      "              04:32:52 - 04:32:58   22:slew    10:track          4    8:1934-638u0.5\n",
      "              04:33:00 - 04:35:58   23:track   10:track         90    8:1934-638u0.5\n"
     ]
    }
   ],
   "source": [
    "print d3.header"
   ]
  },
  {
   "cell_type": "code",
   "execution_count": 47,
   "metadata": {},
   "outputs": [
    {
     "data": {
      "text/plain": [
       "['2021-02-28 04:01:12.889Z INFO     ==========================',\n",
       " '2021-02-28 04:01:12.890Z INFO     New data capturing session',\n",
       " '2021-02-28 04:01:12.890Z INFO     --------------------------',\n",
       " \"2021-02-28 04:01:12.890Z INFO     Session CBF = 'cbf' (1 fengine, 2 beamformers, 1 correlator)\",\n",
       " '2021-02-28 04:01:12.891Z INFO     CBF instruments and streams:',\n",
       " \"2021-02-28 04:01:12.891Z INFO       -> 'wide' (1 fengine, 2 beamformers, 1 correlator)\",\n",
       " \"2021-02-28 04:01:12.891Z INFO            -> fengine    'wide.antenna-channelised-voltage' (128 inputs)\",\n",
       " \"2021-02-28 04:01:12.891Z INFO            -> beamformer 'wide.tied-array-channelised-voltage.0y' (64 inputs)\",\n",
       " \"2021-02-28 04:01:12.891Z INFO            -> beamformer 'wide.tied-array-channelised-voltage.0x' (64 inputs)\",\n",
       " \"2021-02-28 04:01:12.892Z INFO            -> correlator 'wide.baseline-correlation-products' (128 inputs)\",\n",
       " \"2021-02-28 04:01:12.892Z INFO     Session SDP = 'sdp' (1 product)\",\n",
       " '2021-02-28 04:01:12.892Z INFO     SDP products:',\n",
       " \"2021-02-28 04:01:12.892Z INFO       -> 'array_1_wide_2'\",\n",
       " '2021-02-28 04:01:12.892Z INFO     Session FBFUSE = (none)',\n",
       " '2021-02-28 04:01:12.893Z INFO     User product = c856M4k',\n",
       " '2021-02-28 04:01:12.893Z INFO     Antennas used = m047 m046 m045 m044 m043 m042 m041 m040 m003 m002 m001 m000 m061 m060 m049 m048 m008 m017 m009 m036 m037 m034 m035 m032 m030 m031 m006 m038 m039 m054 m055 m056 m057 m050 m051 m052 m053 m010 m011 m012 m013 m014 m059 m016 m015 m005 m007 m004 m018 m062 m063 m021 m020 m023 m022 m025 m024 m027 m026 m029 m028 m019 m058',\n",
       " '2021-02-28 04:01:12.922Z INFO     SETUP',\n",
       " '2021-02-28 04:01:12.922Z INFO     Observer = Benjamin Hugo',\n",
       " \"2021-02-28 04:01:12.922Z INFO     Description = 'RARG engineering: autocorrelation calibration test'\",\n",
       " '2021-02-28 04:01:12.922Z INFO     Experiment ID = 20210226-0016',\n",
       " '2021-02-28 04:01:12.922Z INFO     Proposal ID = COM-20210226-OS-01',\n",
       " '2021-02-28 04:01:12.922Z INFO     RF centre frequency = 1284 MHz, dump rate = 0.5 Hz',\n",
       " '2021-02-28 04:01:12.923Z INFO     Horizon = 30 degrees',\n",
       " '2021-02-28 04:01:12.923Z INFO     Quorum = 90% -> 57 of 63 receptor(s), i.e. 6 straggler(s) tolerated',\n",
       " '2021-02-28 04:01:12.930Z INFO     Delay tracking = on',\n",
       " '2021-02-28 04:01:12.931Z INFO     Switching off all noise diodes',\n",
       " '2021-02-28 04:01:13.050Z INFO     Noise diode will not fire automatically while performing canned commands',\n",
       " '2021-02-28 04:01:13.066Z INFO     Stopping / readying antennas',\n",
       " \"2021-02-28 04:01:17.896Z INFO     Capture block ID for SDP product 'array_1_wide_2' ('wide' instrument) = 1614484873\",\n",
       " '2021-02-28 04:01:17.915Z INFO     INIT',\n",
       " '2021-02-28 04:01:17.916Z INFO     Slewing to first target',\n",
       " '2021-02-28 04:01:19.445Z INFO     slewing to target',\n",
       " '2021-02-28 04:01:31.496Z INFO     target reached',\n",
       " '2021-02-28 04:01:31.502Z INFO     tracking target',\n",
       " '2021-02-28 04:01:31.502Z INFO     target tracked for 0.0 seconds',\n",
       " '2021-02-28 04:01:31.817Z INFO     --------------------------',\n",
       " '2021-02-28 04:01:31.820Z INFO     Initialising Track target 1934-638l1.0 for 180.0 sec',\n",
       " \"2021-02-28 04:01:31.821Z INFO     New compound scan: 'track'\",\n",
       " \"2021-02-28 04:01:31.822Z INFO     Initiating 180-second track on target '1934-638l1.0'\",\n",
       " '2021-02-28 04:01:32.924Z INFO     tracking target',\n",
       " '2021-02-28 04:04:33.014Z INFO     target tracked for 180.0 seconds',\n",
       " '2021-02-28 04:04:33.020Z INFO     Initialising Track target 1934-638l0.5 for 180.0 sec',\n",
       " \"2021-02-28 04:04:33.021Z INFO     New compound scan: 'track'\",\n",
       " \"2021-02-28 04:04:33.022Z INFO     Initiating 180-second track on target '1934-638l0.5'\",\n",
       " '2021-02-28 04:04:35.260Z INFO     slewing to target',\n",
       " '2021-02-28 04:04:41.405Z INFO     target reached',\n",
       " '2021-02-28 04:04:41.409Z INFO     tracking target',\n",
       " '2021-02-28 04:07:41.478Z INFO     target tracked for 180.0 seconds',\n",
       " '2021-02-28 04:07:41.483Z INFO     Initialising Track target, delaycal, gaincal, fluxcal, bpcal 1934-638 for 180.0 sec',\n",
       " \"2021-02-28 04:07:41.484Z INFO     New compound scan: 'track'\",\n",
       " \"2021-02-28 04:07:41.484Z INFO     Initiating 180-second track on target '1934-638'\",\n",
       " '2021-02-28 04:07:43.708Z INFO     slewing to target',\n",
       " '2021-02-28 04:07:49.450Z INFO     target reached',\n",
       " '2021-02-28 04:07:49.454Z INFO     tracking target',\n",
       " '2021-02-28 04:10:49.555Z INFO     target tracked for 180.0 seconds',\n",
       " '2021-02-28 04:10:49.559Z INFO     Initialising Track target 1934-638d1.0 for 180.0 sec',\n",
       " \"2021-02-28 04:10:49.560Z INFO     New compound scan: 'track'\",\n",
       " \"2021-02-28 04:10:49.561Z INFO     Initiating 180-second track on target '1934-638d1.0'\",\n",
       " '2021-02-28 04:10:51.726Z INFO     slewing to target',\n",
       " '2021-02-28 04:10:58.568Z INFO     target reached',\n",
       " '2021-02-28 04:10:58.573Z INFO     tracking target',\n",
       " '2021-02-28 04:13:58.606Z INFO     target tracked for 180.0 seconds',\n",
       " '2021-02-28 04:13:58.610Z INFO     Initialising Track target 1934-638d0.5 for 180.0 sec',\n",
       " \"2021-02-28 04:13:58.611Z INFO     New compound scan: 'track'\",\n",
       " \"2021-02-28 04:13:58.611Z INFO     Initiating 180-second track on target '1934-638d0.5'\",\n",
       " '2021-02-28 04:14:00.809Z INFO     slewing to target',\n",
       " '2021-02-28 04:14:07.252Z INFO     target reached',\n",
       " '2021-02-28 04:14:07.256Z INFO     tracking target',\n",
       " '2021-02-28 04:17:07.355Z INFO     target tracked for 180.0 seconds',\n",
       " '2021-02-28 04:17:07.359Z INFO     Initialising Track target, delaycal, gaincal, fluxcal, bpcal 1934-638 for 180.0 sec',\n",
       " \"2021-02-28 04:17:07.360Z INFO     New compound scan: 'track'\",\n",
       " \"2021-02-28 04:17:07.361Z INFO     Initiating 180-second track on target '1934-638'\",\n",
       " '2021-02-28 04:17:09.547Z INFO     slewing to target',\n",
       " '2021-02-28 04:17:14.987Z INFO     target reached',\n",
       " '2021-02-28 04:17:14.991Z INFO     tracking target',\n",
       " '2021-02-28 04:20:15.025Z INFO     target tracked for 180.0 seconds',\n",
       " '2021-02-28 04:20:15.028Z INFO     Initialising Track target 1934-638r1.0 for 180.0 sec',\n",
       " \"2021-02-28 04:20:15.029Z INFO     New compound scan: 'track'\",\n",
       " \"2021-02-28 04:20:15.030Z INFO     Initiating 180-second track on target '1934-638r1.0'\",\n",
       " '2021-02-28 04:20:17.183Z INFO     slewing to target',\n",
       " '2021-02-28 04:20:23.974Z INFO     target reached',\n",
       " '2021-02-28 04:20:23.979Z INFO     tracking target',\n",
       " '2021-02-28 04:23:24.059Z INFO     target tracked for 180.0 seconds',\n",
       " '2021-02-28 04:23:24.063Z INFO     Initialising Track target 1934-638r0.5 for 180.0 sec',\n",
       " \"2021-02-28 04:23:24.064Z INFO     New compound scan: 'track'\",\n",
       " \"2021-02-28 04:23:24.065Z INFO     Initiating 180-second track on target '1934-638r0.5'\",\n",
       " '2021-02-28 04:23:26.259Z INFO     slewing to target',\n",
       " \"2021-02-28 04:23:32.909Z INFO     Waiting for sensor 'lock' == True had 1 straggler(s): ['m013']\",\n",
       " '2021-02-28 04:23:32.910Z INFO     target reached',\n",
       " '2021-02-28 04:23:32.914Z INFO     tracking target',\n",
       " '2021-02-28 04:26:32.984Z INFO     target tracked for 180.0 seconds',\n",
       " '2021-02-28 04:26:32.987Z INFO     Initialising Track target, delaycal, gaincal, fluxcal, bpcal 1934-638 for 180.0 sec',\n",
       " \"2021-02-28 04:26:32.988Z INFO     New compound scan: 'track'\",\n",
       " \"2021-02-28 04:26:32.989Z INFO     Initiating 180-second track on target '1934-638'\",\n",
       " '2021-02-28 04:26:35.210Z INFO     slewing to target',\n",
       " \"2021-02-28 04:26:41.854Z INFO     Waiting for sensor 'lock' == True had 1 straggler(s): ['m013']\",\n",
       " '2021-02-28 04:26:41.855Z INFO     target reached',\n",
       " '2021-02-28 04:26:41.859Z INFO     tracking target',\n",
       " '2021-02-28 04:29:41.898Z INFO     target tracked for 180.0 seconds',\n",
       " '2021-02-28 04:29:41.902Z INFO     Initialising Track target 1934-638u1.0 for 180.0 sec',\n",
       " \"2021-02-28 04:29:41.903Z INFO     New compound scan: 'track'\",\n",
       " \"2021-02-28 04:29:41.903Z INFO     Initiating 180-second track on target '1934-638u1.0'\",\n",
       " '2021-02-28 04:29:44.210Z INFO     slewing to target',\n",
       " '2021-02-28 04:29:50.501Z INFO     target reached',\n",
       " '2021-02-28 04:29:50.506Z INFO     tracking target',\n",
       " '2021-02-28 04:32:50.590Z INFO     target tracked for 180.0 seconds',\n",
       " '2021-02-28 04:32:50.594Z INFO     Initialising Track target 1934-638u0.5 for 180.0 sec',\n",
       " \"2021-02-28 04:32:50.595Z INFO     New compound scan: 'track'\",\n",
       " \"2021-02-28 04:32:50.595Z INFO     Initiating 180-second track on target '1934-638u0.5'\",\n",
       " '2021-02-28 04:32:52.747Z INFO     slewing to target',\n",
       " \"2021-02-28 04:32:59.687Z INFO     Waiting for sensor 'lock' == True had 1 straggler(s): ['m013']\",\n",
       " '2021-02-28 04:32:59.688Z INFO     target reached',\n",
       " '2021-02-28 04:32:59.693Z INFO     tracking target',\n",
       " '2021-02-28 04:35:59.736Z INFO     target tracked for 180.0 seconds',\n",
       " '2021-02-28 04:35:59.738Z INFO     Observation list completed - ending observation',\n",
       " '2021-02-28 04:35:59.903Z INFO     DONE',\n",
       " '2021-02-28 04:35:59.904Z INFO     Ended data capturing session with experiment ID 20210226-0016',\n",
       " '2021-02-28 04:35:59.912Z INFO     Stopping / readying antennas',\n",
       " '2021-02-28 04:36:06.530Z INFO     ==========================']"
      ]
     },
     "execution_count": 47,
     "metadata": {},
     "output_type": "execute_result"
    }
   ],
   "source": [
    "d3.obs_script_log"
   ]
  },
  {
   "cell_type": "code",
   "execution_count": 48,
   "metadata": {},
   "outputs": [
    {
     "name": "stdout",
     "output_type": "stream",
     "text": [
      "m000 m001 m002 m003 m004 m005 m006 m007 m008 m009 m010 m011 m012 m013 m014 m015 m016 m017 m018 m019 m020 m021 m022 m023 m024 m025 m026 m027 m028 m029 m030 m031 m032 m034 m035 m036 m037 m038 m039 m040 m041 m042 m043 m044 m045 m046 m047 m048 m049 m050 m051 m052 m053 m054 m055 m056 m057 m058 m059 m060 m061 m062 m063 checked\n"
     ]
    }
   ],
   "source": [
    "data.select()\n",
    "for ant in d3.ant_list:\n",
    "    data.select(ants=ant)\n",
    "    \n",
    "    assert(data.ants[0].observer.elevation==d3.__getattribute__(ant).observer_elevation)\n",
    "    assert(data.ants[0].observer.lon==d3.__getattribute__(ant).observer_lon_rad)\n",
    "    assert(data.ants[0].observer.lat==d3.__getattribute__(ant).observer_lat_rad)\n",
    "    print ant,\n",
    "print 'checked'"
   ]
  },
  {
   "cell_type": "code",
   "execution_count": 49,
   "metadata": {},
   "outputs": [
    {
     "name": "stdout",
     "output_type": "stream",
     "text": [
      "# load old version data to check\n"
     ]
    }
   ],
   "source": [
    "print '# load old version data to check'"
   ]
  },
  {
   "cell_type": "code",
   "execution_count": 50,
   "metadata": {},
   "outputs": [
    {
     "name": "stdout",
     "output_type": "stream",
     "text": [
      "['m047', 'm046', 'm009', 'm008', 'm043', 'obs_script_log', 'm041', 'm040', 'm003', 'm002', 'm001', 'm000', 'm007', 'm006', 'm005', 'm004', 'header', 'm044', 'm054', 'm059', 'm042', 'm061', 'temperature', 'm053', 'm055', 'm036', 'm037', 'm034', 'm035', 'm032', 'm030', 'm031', 'timestamps', 'm038', 'm039', 'm018', 'm019', 'm056', 'm057', 'm050', 'm051', 'm052', 'receivers', 'm010', 'm011', 'm012', 'm013', 'm014', 'm015', 'm016', 'm017', 'm060', 'pressure', 'm049', 'm048', 'm045', 'm062', 'freqs', 'm063', 'humidity', 'm021', 'm020', 'm023', 'm022', 'm025', 'm024', 'm027', 'm026', 'm029', 'm028', 'm058']\n"
     ]
    }
   ],
   "source": [
    "d4 = pickle.load(open('/users/jywang/MeerKAT/model_test/calibrator2/'+fname+'_para'))\n",
    "print d4.keys"
   ]
  },
  {
   "cell_type": "code",
   "execution_count": 51,
   "metadata": {},
   "outputs": [
    {
     "name": "stdout",
     "output_type": "stream",
     "text": [
      "checked\n",
      "m000 m001 m002 m003 m004 m005 m006 m007 m008 m009 m010 m011 m012 m013 m014 m015 m016 m017 m018 m019 m020 m021 m022 m023 m024 m025 m026 m027 m028 m029 m030 m031 m032 m034 m035 m036 m037 m038 m039 m040 m041 m042 m043 m044 m045 m046 m047 m048 m049 m050 m051 m052 m053 m054 m055 m056 m057 m058 m059 m060 m061 m062 m063 \n",
      "checked\n"
     ]
    }
   ],
   "source": [
    "\n",
    "assert((d3.temperature==d4.temperature).all())\n",
    "assert((d3.humidity==d4.humidity).all())\n",
    "print 'checked'\n",
    "\n",
    "for ant in d3.ant_list:\n",
    "\n",
    "    assert(d3.__getattribute__(ant).observer_elevation==d4.__getattribute__(ant).observer_elevation)\n",
    "    assert((d3.__getattribute__(ant).ra==d4.__getattribute__(ant).ra).all())\n",
    "    assert((d3.__getattribute__(ant).el==d4.__getattribute__(ant).el).all())\n",
    "    print ant,\n",
    "print ''\n",
    "print 'checked'"
   ]
  },
  {
   "cell_type": "code",
   "execution_count": 52,
   "metadata": {},
   "outputs": [
    {
     "name": "stdout",
     "output_type": "stream",
     "text": [
      "end @ Fri Oct 22 12:39:36 2021#\n"
     ]
    }
   ],
   "source": [
    "print 'end @ ' + time.asctime(time.localtime(time.time())) +'#'"
   ]
  }
 ],
 "metadata": {
  "kernelspec": {
   "display_name": "katcal.simg",
   "language": "python",
   "name": "kat_cal"
  },
  "language_info": {
   "codemirror_mode": {
    "name": "ipython",
    "version": 2
   },
   "file_extension": ".py",
   "mimetype": "text/x-python",
   "name": "python",
   "nbconvert_exporter": "python",
   "pygments_lexer": "ipython2",
   "version": "2.7.15+"
  }
 },
 "nbformat": 4,
 "nbformat_minor": 4
}
